{
 "metadata": {
  "name": "iterate-like-a-native"
 },
 "nbformat": 3,
 "nbformat_minor": 0,
 "worksheets": [
  {
   "cells": [
    {
     "cell_type": "markdown",
     "metadata": {},
     "source": [
      "# ipy:notebook tour of Ned Batchelder's 'Loop Like A Native' pycon talk. #"
     ]
    },
    {
     "cell_type": "markdown",
     "metadata": {},
     "source": [
      "This is a quick, informal ipython notebook walk thru of the major highpoints of: \n",
      "\n",
      "*  http://nedbatchelder.com/text/iter.html\n",
      "\n"
     ]
    },
    {
     "cell_type": "markdown",
     "metadata": {},
     "source": [
      "## ~ Iteration basics ~ ##"
     ]
    },
    {
     "cell_type": "code",
     "collapsed": false,
     "input": [
      "my_list = [0, 1, 2, 3, 4]"
     ],
     "language": "python",
     "metadata": {},
     "outputs": [],
     "prompt_number": 2
    },
    {
     "cell_type": "code",
     "collapsed": false,
     "input": [
      "# Don't do this\n",
      "i = 0\n",
      "while i < len(my_list):\n",
      "    print my_list[i]\n",
      "    i += 1"
     ],
     "language": "python",
     "metadata": {},
     "outputs": [
      {
       "output_type": "stream",
       "stream": "stdout",
       "text": [
        "0\n",
        "1\n",
        "2\n",
        "3\n",
        "4\n"
       ]
      }
     ],
     "prompt_number": 3
    },
    {
     "cell_type": "code",
     "collapsed": false,
     "input": [
      "# This is better ...\n",
      "for i in range(len(my_list)):\n",
      "    print my_list[i]"
     ],
     "language": "python",
     "metadata": {},
     "outputs": [
      {
       "output_type": "stream",
       "stream": "stdout",
       "text": [
        "0\n",
        "1\n",
        "2\n",
        "3\n",
        "4\n"
       ]
      }
     ],
     "prompt_number": 4
    },
    {
     "cell_type": "code",
     "collapsed": false,
     "input": [
      "# But this is the so called 'pythonic' way to do it: \n",
      "for number in my_list:\n",
      "    print number"
     ],
     "language": "python",
     "metadata": {},
     "outputs": [
      {
       "output_type": "stream",
       "stream": "stdout",
       "text": [
        "0\n",
        "1\n",
        "2\n",
        "3\n",
        "4\n"
       ]
      }
     ],
     "prompt_number": 5
    },
    {
     "cell_type": "markdown",
     "metadata": {},
     "source": [
      "### From Ned: _\"Rather than iterating over indexes, and using the index i to get the value we really want from the list, we can simply loop over the values directly.\"_ ###"
     ]
    },
    {
     "cell_type": "markdown",
     "metadata": {},
     "source": [
      "Point!  Many things in python are iterables"
     ]
    },
    {
     "cell_type": "code",
     "collapsed": false,
     "input": [
      "# List -> elements\n",
      "for e in [1, 2, 3, 4]:\n",
      "    print e"
     ],
     "language": "python",
     "metadata": {},
     "outputs": []
    },
    {
     "cell_type": "code",
     "collapsed": false,
     "input": [
      "# Strings -> characters\n",
      "for c in \"Hello\":\n",
      "    print c"
     ],
     "language": "python",
     "metadata": {},
     "outputs": [
      {
       "output_type": "stream",
       "stream": "stdout",
       "text": [
        "H\n",
        "e\n",
        "l\n",
        "l\n",
        "o\n"
       ]
      }
     ],
     "prompt_number": 7
    },
    {
     "cell_type": "code",
     "collapsed": false,
     "input": [
      "# Dict -> keys\n",
      "d = {'a': 1, 'b': 2, 'c': 3}\n",
      "for key in d:\n",
      "    print key"
     ],
     "language": "python",
     "metadata": {},
     "outputs": [
      {
       "output_type": "stream",
       "stream": "stdout",
       "text": [
        "a\n",
        "c\n",
        "b\n"
       ]
      }
     ],
     "prompt_number": 8
    },
    {
     "cell_type": "code",
     "collapsed": false,
     "input": [
      "# And also: \n",
      "for key, value in d.iteritems():\n",
      "    print key, value"
     ],
     "language": "python",
     "metadata": {},
     "outputs": [
      {
       "output_type": "stream",
       "stream": "stdout",
       "text": [
        "a 1\n",
        "c 3\n",
        "b 2\n"
       ]
      }
     ],
     "prompt_number": 9
    },
    {
     "cell_type": "code",
     "collapsed": false,
     "input": [
      "for key, value in d.items():\n",
      "    print key, value"
     ],
     "language": "python",
     "metadata": {},
     "outputs": [
      {
       "output_type": "stream",
       "stream": "stdout",
       "text": [
        "a 1\n",
        "c 3\n",
        "b 2\n"
       ]
      }
     ],
     "prompt_number": 10
    },
    {
     "cell_type": "code",
     "collapsed": false,
     "input": [
      "# Files -> lines\n",
      "for line in open('gettysburg.txt'):\n",
      "    print repr(line)"
     ],
     "language": "python",
     "metadata": {},
     "outputs": [
      {
       "output_type": "stream",
       "stream": "stdout",
       "text": [
        "'Four score and seven years ago\\n'\n",
        "'our fathers brought forth on this continent\\n'\n",
        "'a new nation,\\n'\n",
        "'conceived in liberty,\\n'\n",
        "'and dedicated to the proposition\\n'\n",
        "'that all men are created equal.\\n'\n"
       ]
      }
     ],
     "prompt_number": 12
    },
    {
     "cell_type": "code",
     "collapsed": false,
     "input": [
      "# Standard lib has interesting iterables\n",
      "import re\n",
      "text = open('gettysburg.txt').read()\n",
      "for match in re.finditer(r'\\bs\\w+\\b', text):\n",
      "    print match.group(0)"
     ],
     "language": "python",
     "metadata": {},
     "outputs": [
      {
       "output_type": "stream",
       "stream": "stdout",
       "text": [
        "score\n",
        "seven\n"
       ]
      }
     ],
     "prompt_number": 14
    },
    {
     "cell_type": "code",
     "collapsed": false,
     "input": [
      "import os"
     ],
     "language": "python",
     "metadata": {},
     "outputs": [],
     "prompt_number": 15
    },
    {
     "cell_type": "code",
     "collapsed": false,
     "input": [
      "for path, dirs, files in os.walk('.'):\n",
      "    print\n",
      "    print 'path:', path\n",
      "    print 'dirs:', dirs\n",
      "    print 'files:', files"
     ],
     "language": "python",
     "metadata": {},
     "outputs": [
      {
       "output_type": "stream",
       "stream": "stdout",
       "text": [
        "\n",
        "path: .\n",
        "dirs: ['code']\n",
        "files: ['iterate-like-a-native.ipynb', 'x_seq.pickle', 'gettysburg.txt', 'pickle.ipynb']\n",
        "\n",
        "path: ./code\n",
        "dirs: []\n",
        "files: ['foobar.py']\n"
       ]
      }
     ],
     "prompt_number": 20
    },
    {
     "cell_type": "markdown",
     "metadata": {},
     "source": [
      "### From Ned: *In addition to provide lot of interesting iterable values, Python also uses iterables in lots of places, not just in for loops. Here are a few examples.* ###"
     ]
    },
    {
     "cell_type": "markdown",
     "metadata": {},
     "source": [
      "Other uses for iterables:\n",
      "\n",
      "* new_list = list(iterable)\n",
      "* results = [f(x) for x in iterable]\n",
      "* total = sum(iterable)\n",
      "* smallest = min(iterable)\n",
      "* largest = max(iterable)\n",
      "* combined = \"\".join(iterable)"
     ]
    },
    {
     "cell_type": "markdown",
     "metadata": {},
     "source": [
      "## ~ Common questions ~ ##"
     ]
    },
    {
     "cell_type": "markdown",
     "metadata": {},
     "source": [
      "### Q: How do I get the index? ###"
     ]
    },
    {
     "cell_type": "code",
     "collapsed": false,
     "input": [
      "# No:\n",
      "for i in range(len(my_list)):\n",
      "    v = my_list[i]\n",
      "    print i, v"
     ],
     "language": "python",
     "metadata": {},
     "outputs": [
      {
       "output_type": "stream",
       "stream": "stdout",
       "text": [
        "0 0\n",
        "1 1\n",
        "2 2\n",
        "3 3\n",
        "4 4\n"
       ]
      }
     ],
     "prompt_number": 21
    },
    {
     "cell_type": "code",
     "collapsed": false,
     "input": [
      "# Yes:\n",
      "for i, v in enumerate(my_list):\n",
      "    print i, v"
     ],
     "language": "python",
     "metadata": {},
     "outputs": [
      {
       "output_type": "stream",
       "stream": "stdout",
       "text": [
        "0 0\n",
        "1 1\n",
        "2 2\n",
        "3 3\n",
        "4 4\n"
       ]
      }
     ],
     "prompt_number": 22
    },
    {
     "cell_type": "code",
     "collapsed": false,
     "input": [
      "# enumerate() makes useful pairs\n",
      "names = [\"Eiffel Tower\", \"Empire State\", \"Sears Tower\"]\n",
      "list(enumerate(names))"
     ],
     "language": "python",
     "metadata": {},
     "outputs": [
      {
       "output_type": "pyout",
       "prompt_number": 23,
       "text": [
        "[(0, 'Eiffel Tower'), (1, 'Empire State'), (2, 'Sears Tower')]"
       ]
      }
     ],
     "prompt_number": 23
    },
    {
     "cell_type": "code",
     "collapsed": false,
     "input": [
      "for num, name in enumerate(names):\n",
      "    print num, name"
     ],
     "language": "python",
     "metadata": {},
     "outputs": [
      {
       "output_type": "stream",
       "stream": "stdout",
       "text": [
        "0 Eiffel Tower\n",
        "1 Empire State\n",
        "2 Sears Tower\n"
       ]
      }
     ],
     "prompt_number": 24
    },
    {
     "cell_type": "code",
     "collapsed": false,
     "input": [
      "# enumerate also takes a 'start' param\n",
      "for num, name in enumerate(names, start=1):\n",
      "    print num, name"
     ],
     "language": "python",
     "metadata": {},
     "outputs": [
      {
       "output_type": "stream",
       "stream": "stdout",
       "text": [
        "1 Eiffel Tower\n",
        "2 Empire State\n",
        "3 Sears Tower\n"
       ]
      }
     ],
     "prompt_number": 25
    },
    {
     "cell_type": "markdown",
     "metadata": {},
     "source": [
      "### Q: How do I loop over two lists? ###"
     ]
    },
    {
     "cell_type": "code",
     "collapsed": false,
     "input": [
      "# Bad: \n",
      "names = [\"Eiffel Tower\", \"Empire State\", \"Sears Tower\"]\n",
      "heights = [324, 381, 442]\n",
      " \n",
      "for i in range(len(names)):\n",
      "    name = names[i]\n",
      "    height = heights[i]\n",
      "    print \"%s: %s meters\" % (name, height)"
     ],
     "language": "python",
     "metadata": {},
     "outputs": [
      {
       "output_type": "stream",
       "stream": "stdout",
       "text": [
        "Eiffel Tower: 324 meters\n",
        "Empire State: 381 meters\n",
        "Sears Tower: 442 meters\n"
       ]
      }
     ],
     "prompt_number": 26
    },
    {
     "cell_type": "code",
     "collapsed": false,
     "input": [
      "# Good -- use zip!\n",
      "for name, height in zip(names, heights):\n",
      "    print \"%s: %s meters\" % (name, height)"
     ],
     "language": "python",
     "metadata": {},
     "outputs": [
      {
       "output_type": "stream",
       "stream": "stdout",
       "text": [
        "Eiffel Tower: 324 meters\n",
        "Empire State: 381 meters\n",
        "Sears Tower: 442 meters\n"
       ]
      }
     ],
     "prompt_number": 27
    },
    {
     "cell_type": "code",
     "collapsed": false,
     "input": [
      "# Note, dict accepts a stream of pairs: \n",
      "dict(zip(names, heights))"
     ],
     "language": "python",
     "metadata": {},
     "outputs": [
      {
       "output_type": "pyout",
       "prompt_number": 28,
       "text": [
        "{'Eiffel Tower': 324, 'Empire State': 381, 'Sears Tower': 442}"
       ]
      }
     ],
     "prompt_number": 28
    },
    {
     "cell_type": "markdown",
     "metadata": {},
     "source": [
      "### Powerful! ###"
     ]
    },
    {
     "cell_type": "code",
     "collapsed": false,
     "input": [
      "tall_buildings = {\n",
      "  \"Empire State\": 381, \"Sears Tower\": 442,\n",
      "  \"Burj Khalifa\": 828, \"Taipei 101\": 509,\n",
      "  }\n",
      "print max(tall_buildings.values())"
     ],
     "language": "python",
     "metadata": {},
     "outputs": [
      {
       "output_type": "stream",
       "stream": "stdout",
       "text": [
        "828\n"
       ]
      }
     ],
     "prompt_number": 29
    },
    {
     "cell_type": "code",
     "collapsed": false,
     "input": [
      "print max(tall_buildings.items(), key=lambda b: b[1])"
     ],
     "language": "python",
     "metadata": {},
     "outputs": [
      {
       "output_type": "stream",
       "stream": "stdout",
       "text": [
        "('Burj Khalifa', 828)\n"
       ]
      }
     ],
     "prompt_number": 30
    },
    {
     "cell_type": "code",
     "collapsed": false,
     "input": [
      "print max(tall_buildings, key=tall_buildings.get)"
     ],
     "language": "python",
     "metadata": {},
     "outputs": [
      {
       "output_type": "stream",
       "stream": "stdout",
       "text": [
        "Burj Khalifa\n"
       ]
      }
     ],
     "prompt_number": 31
    },
    {
     "cell_type": "markdown",
     "metadata": {},
     "source": [
      "### The punchline from Ned: \"Python's iteration primitives give you the power to loop over tall_buildings in a single bound!\" ###"
     ]
    },
    {
     "cell_type": "markdown",
     "metadata": {},
     "source": [
      "## ~ Customizing iteration ~ ##"
     ]
    },
    {
     "cell_type": "code",
     "collapsed": false,
     "input": [
      "def do_something(number):\n",
      "    print number\n",
      "    \n",
      "nums = [88, 73, 92, 72, 40, 38, 25, 20, 90, 72]\n",
      "for n in nums:\n",
      "    if n % 2 == 0:\n",
      "        do_something(n)"
     ],
     "language": "python",
     "metadata": {},
     "outputs": [
      {
       "output_type": "stream",
       "stream": "stdout",
       "text": [
        "88\n",
        "92\n",
        "72\n",
        "40\n",
        "38\n",
        "20\n",
        "90\n",
        "72\n"
       ]
      }
     ],
     "prompt_number": 32
    },
    {
     "cell_type": "code",
     "collapsed": false,
     "input": [
      "def evens(stream):\n",
      "    them = []\n",
      "    for n in stream:\n",
      "        if n % 2 == 0:\n",
      "            them.append(n)\n",
      "    return them\n",
      " \n",
      "for n in evens(nums):\n",
      "    do_something(n)"
     ],
     "language": "python",
     "metadata": {},
     "outputs": [
      {
       "output_type": "stream",
       "stream": "stdout",
       "text": [
        "88\n",
        "92\n",
        "72\n",
        "40\n",
        "38\n",
        "20\n",
        "90\n",
        "72\n"
       ]
      }
     ],
     "prompt_number": 34
    },
    {
     "cell_type": "markdown",
     "metadata": {},
     "source": [
      "### Generators --> Functions return one value \u2014 Generators produce a stream ###"
     ]
    },
    {
     "cell_type": "code",
     "collapsed": false,
     "input": [
      "def hello_world():\n",
      "    yield \"Hello\"\n",
      "    yield \"world\"\n",
      " \n",
      "for x in hello_world():\n",
      "    print x"
     ],
     "language": "python",
     "metadata": {},
     "outputs": []
    },
    {
     "cell_type": "code",
     "collapsed": false,
     "input": [
      "# The evens generators\n",
      "def evens(stream):\n",
      "    for n in stream:\n",
      "        if n % 2 == 0:\n",
      "            yield n\n",
      "for n in evens(nums):\n",
      "    do_something(n)"
     ],
     "language": "python",
     "metadata": {},
     "outputs": [
      {
       "output_type": "stream",
       "stream": "stdout",
       "text": [
        "88\n",
        "92\n",
        "72\n",
        "40\n",
        "38\n",
        "20\n",
        "90\n",
        "72\n"
       ]
      }
     ],
     "prompt_number": 35
    },
    {
     "cell_type": "code",
     "collapsed": false,
     "input": [
      "# An interesting lines example\n",
      "def interesting_lines(f):\n",
      "    for line in f:\n",
      "        line = line.strip()\n",
      "        if line.startswith('#'):\n",
      "            continue\n",
      "        if not line:\n",
      "            continue\n",
      "        yield line\n",
      "\n",
      "        \n",
      "with open(\"config.ini\") as f:\n",
      "    for line in interesting_lines(f):\n",
      "        print line\n",
      " "
     ],
     "language": "python",
     "metadata": {},
     "outputs": [
      {
       "output_type": "stream",
       "stream": "stdout",
       "text": [
        "# This is a config file\n",
        "\n",
        "# Set foo to bar\n",
        "FOO: BAR\n",
        "\n",
        "\n",
        "\n",
        "FOO: BAR\n"
       ]
      }
     ],
     "prompt_number": 39
    },
    {
     "cell_type": "markdown",
     "metadata": {},
     "source": [
      "### Q: How do I break out of two loops? ###"
     ]
    },
    {
     "cell_type": "code",
     "collapsed": false,
     "input": [
      "for row in range(height):\n",
      "    for col in range(width):\n",
      " \n",
      "        value = spreadsheet.get_value(col, row)\n",
      "        do_something(value)\n",
      " \n",
      "        if this_is_my_value(value):\n",
      "            break   # \u2190 ???"
     ],
     "language": "python",
     "metadata": {},
     "outputs": []
    },
    {
     "cell_type": "markdown",
     "metadata": {},
     "source": [
      "### A: Make the double loop single ###\n",
      "\n",
      "        "
     ]
    },
    {
     "cell_type": "code",
     "collapsed": false,
     "input": [
      "def range_2d(width, height):\n",
      "    \"\"\"Produce a stream of two-D coordinates.\"\"\"\n",
      "    for y in range(height):\n",
      "        for x in range(width):\n",
      "            yield x, y\n",
      "            \n",
      "for col, row in range_2d(width, height):\n",
      "    value = spreadsheet.get_value(col, row)\n",
      "    do_something(value)\n",
      " \n",
      "    if this_is_my_value(value):\n",
      "        break"
     ],
     "language": "python",
     "metadata": {},
     "outputs": []
    },
    {
     "cell_type": "code",
     "collapsed": false,
     "input": [
      "# Even better: iterate cells\n",
      "for cell in spreadsheet.cells():\n",
      "    value = cell.get_value()\n",
      "    do_something(value)\n",
      " \n",
      "    if this_is_my_value(value):\n",
      "        break"
     ],
     "language": "python",
     "metadata": {},
     "outputs": []
    }
   ],
   "metadata": {}
  }
 ]
}