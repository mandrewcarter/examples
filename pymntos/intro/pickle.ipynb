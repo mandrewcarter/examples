{
 "metadata": {
  "name": "pickle"
 },
 "nbformat": 3,
 "nbformat_minor": 0,
 "worksheets": [
  {
   "cells": [
    {
     "cell_type": "markdown",
     "metadata": {},
     "source": [
      "# pickle: the basics and bit beyond #\n",
      "\n",
      "## terms and definitions ##\n",
      "\n",
      "This talk covers the basics of using python's pickle serialization algorithm. `pickle` is the main serialization algorithm used to serial python `objects`. \n",
      "[As defined by wikipedia](http://en.wikipedia.org/wiki/Serialization): \n",
      "\n",
      "> _Serialization is the process of translating data structures or object state into a format that can be stored (for example, in a file or memory buffer, or transmitted across a network connection link) and resurrected later in the same or another computer environment._\n",
      "\n",
      "Or, as [framed in the docs](http://docs.python.org/2/library/pickle.html):\n",
      "\n",
      "  > _The pickle module implements a fundamental, but powerful algorithm for serializing and de-serializing a Python object structure. \u201cPickling\u201d is the process whereby a Python object hierarchy is converted into a byte stream, and \u201cunpickling\u201d is the inverse operation, whereby a byte stream is converted back into an object hierarchy._\n",
      "\n",
      " \n",
      "## the imports ##"
     ]
    },
    {
     "cell_type": "code",
     "collapsed": false,
     "input": [
      "import pickle"
     ],
     "language": "python",
     "metadata": {},
     "outputs": [],
     "prompt_number": 1
    },
    {
     "cell_type": "markdown",
     "metadata": {},
     "source": [
      "Most of the time, or maybe better yet \"whenever possible\", it's better to use the c optimized version"
     ]
    },
    {
     "cell_type": "code",
     "collapsed": false,
     "input": [
      "# This seems to be the common idiom\n",
      "try:\n",
      "    import cPickle as pickle\n",
      "except ImportError:\n",
      "    import pickle as pickle"
     ],
     "language": "python",
     "metadata": {},
     "outputs": [],
     "prompt_number": 2
    },
    {
     "cell_type": "markdown",
     "metadata": {},
     "source": [
      "## converting objects to pickle strings ##\n",
      "\n",
      "First, create some objects"
     ]
    },
    {
     "cell_type": "code",
     "collapsed": false,
     "input": [
      "some_string = 'thank you, cinco'  # Let's shake up this monty python monopoly"
     ],
     "language": "python",
     "metadata": {},
     "outputs": [],
     "prompt_number": 3
    },
    {
     "cell_type": "code",
     "collapsed": false,
     "input": [
      "some_int = 10"
     ],
     "language": "python",
     "metadata": {},
     "outputs": [],
     "prompt_number": 4
    },
    {
     "cell_type": "code",
     "collapsed": false,
     "input": [
      "print pickle.dumps(some_string)"
     ],
     "language": "python",
     "metadata": {},
     "outputs": [
      {
       "output_type": "stream",
       "stream": "stdout",
       "text": [
        "S'thank you, cinco'\n",
        "p1\n",
        ".\n"
       ]
      }
     ],
     "prompt_number": 5
    },
    {
     "cell_type": "code",
     "collapsed": false,
     "input": [
      "print pickle.dumps(some_int)"
     ],
     "language": "python",
     "metadata": {},
     "outputs": [
      {
       "output_type": "stream",
       "stream": "stdout",
       "text": [
        "I10\n",
        ".\n"
       ]
      }
     ],
     "prompt_number": 6
    },
    {
     "cell_type": "markdown",
     "metadata": {},
     "source": [
      "A better representation might be to use `repr` to \"see\" the byte string."
     ]
    },
    {
     "cell_type": "code",
     "collapsed": false,
     "input": [
      "print repr(pickle.dumps(some_string))"
     ],
     "language": "python",
     "metadata": {},
     "outputs": [
      {
       "output_type": "stream",
       "stream": "stdout",
       "text": [
        "\"S'thank you, cinco'\\np1\\n.\"\n"
       ]
      }
     ],
     "prompt_number": 7
    },
    {
     "cell_type": "code",
     "collapsed": false,
     "input": [
      "some_seq = [10, 20, 30, 40, 50]"
     ],
     "language": "python",
     "metadata": {},
     "outputs": [],
     "prompt_number": 8
    },
    {
     "cell_type": "code",
     "collapsed": false,
     "input": [
      "print repr(pickle.dumps(some_seq))"
     ],
     "language": "python",
     "metadata": {},
     "outputs": [
      {
       "output_type": "stream",
       "stream": "stdout",
       "text": [
        "'(lp1\\nI10\\naI20\\naI30\\naI40\\naI50\\na.'\n"
       ]
      }
     ],
     "prompt_number": 9
    },
    {
     "cell_type": "markdown",
     "metadata": {},
     "source": [
      "\n",
      "### unpickling ###\n",
      "The key, of course, is getting it all back"
     ]
    },
    {
     "cell_type": "code",
     "collapsed": false,
     "input": [
      "some_seq_pickle_string = pickle.dumps(some_seq)"
     ],
     "language": "python",
     "metadata": {},
     "outputs": [],
     "prompt_number": 10
    },
    {
     "cell_type": "code",
     "collapsed": false,
     "input": [
      "print pickle.loads(some_seq_pickle_string)"
     ],
     "language": "python",
     "metadata": {},
     "outputs": [
      {
       "output_type": "stream",
       "stream": "stdout",
       "text": [
        "[10, 20, 30, 40, 50]\n"
       ]
      }
     ],
     "prompt_number": 11
    },
    {
     "cell_type": "markdown",
     "metadata": {},
     "source": [
      "Note!  You get a new 'copy' every time you load the object:"
     ]
    },
    {
     "cell_type": "code",
     "collapsed": false,
     "input": [
      "a, b = pickle.loads(some_seq_pickle_string), pickle.loads(some_seq_pickle_string) "
     ],
     "language": "python",
     "metadata": {},
     "outputs": [],
     "prompt_number": 12
    },
    {
     "cell_type": "code",
     "collapsed": false,
     "input": [
      "print a is b"
     ],
     "language": "python",
     "metadata": {},
     "outputs": [
      {
       "output_type": "stream",
       "stream": "stdout",
       "text": [
        "False\n"
       ]
      }
     ],
     "prompt_number": 13
    },
    {
     "cell_type": "code",
     "collapsed": false,
     "input": [
      "print a == b  # But it is equal"
     ],
     "language": "python",
     "metadata": {},
     "outputs": [
      {
       "output_type": "stream",
       "stream": "stdout",
       "text": [
        "True\n"
       ]
      }
     ],
     "prompt_number": 14
    },
    {
     "cell_type": "markdown",
     "metadata": {},
     "source": [
      "### nested datastructures ###\n",
      "This works for things of arbirtary complexity, nesting"
     ]
    },
    {
     "cell_type": "code",
     "collapsed": false,
     "input": [
      "inner_map = {'a': 10, 'b': 20, 'c': 30}"
     ],
     "language": "python",
     "metadata": {},
     "outputs": [],
     "prompt_number": 15
    },
    {
     "cell_type": "code",
     "collapsed": false,
     "input": [
      "outer_seq = [inner_map, [10, 20, inner_map], None, True, False, {'true': True, 'false': False}]"
     ],
     "language": "python",
     "metadata": {},
     "outputs": [],
     "prompt_number": 16
    },
    {
     "cell_type": "code",
     "collapsed": false,
     "input": [
      "print repr(pickle.dumps(outer_seq))"
     ],
     "language": "python",
     "metadata": {},
     "outputs": [
      {
       "output_type": "stream",
       "stream": "stdout",
       "text": [
        "\"(lp1\\n(dp2\\nS'a'\\nI10\\nsS'c'\\nI30\\nsS'b'\\nI20\\nsa(lp3\\nI10\\naI20\\nag2\\naaNaI01\\naI00\\na(dp4\\nS'false'\\np5\\nI00\\nsS'true'\\np6\\nI01\\nsa.\"\n"
       ]
      }
     ],
     "prompt_number": 17
    },
    {
     "cell_type": "markdown",
     "metadata": {},
     "source": [
      "\n",
      "### pickle memo ###\n",
      "Pickle uses a memo to save having to re-pickle 'duplicate' objects."
     ]
    },
    {
     "cell_type": "code",
     "collapsed": false,
     "input": [
      "x_map = {'x': [1, 2, 3]}\n",
      "x_seq = [x_map] * 10\n",
      "print x_seq"
     ],
     "language": "python",
     "metadata": {},
     "outputs": [
      {
       "output_type": "stream",
       "stream": "stdout",
       "text": [
        "[{'x': [1, 2, 3]}, {'x': [1, 2, 3]}, {'x': [1, 2, 3]}, {'x': [1, 2, 3]}, {'x': [1, 2, 3]}, {'x': [1, 2, 3]}, {'x': [1, 2, 3]}, {'x': [1, 2, 3]}, {'x': [1, 2, 3]}, {'x': [1, 2, 3]}]\n"
       ]
      }
     ],
     "prompt_number": 18
    },
    {
     "cell_type": "code",
     "collapsed": false,
     "input": [
      "print repr(pickle.dumps(x_seq))"
     ],
     "language": "python",
     "metadata": {},
     "outputs": [
      {
       "output_type": "stream",
       "stream": "stdout",
       "text": [
        "\"(lp1\\n(dp2\\nS'x'\\n(lp3\\nI1\\naI2\\naI3\\nasag2\\nag2\\nag2\\nag2\\nag2\\nag2\\nag2\\nag2\\nag2\\na.\"\n"
       ]
      }
     ],
     "prompt_number": 19
    },
    {
     "cell_type": "markdown",
     "metadata": {},
     "source": [
      "You can even have a circular references -- it's OK. "
     ]
    },
    {
     "cell_type": "code",
     "collapsed": false,
     "input": [
      "x_map['x_map'] = x_map\n",
      "print repr(pickle.dumps(x_seq))"
     ],
     "language": "python",
     "metadata": {},
     "outputs": [
      {
       "output_type": "stream",
       "stream": "stdout",
       "text": [
        "\"(lp1\\n(dp2\\nS'x'\\n(lp3\\nI1\\naI2\\naI3\\nasS'x_map'\\np4\\ng2\\nsag2\\nag2\\nag2\\nag2\\nag2\\nag2\\nag2\\nag2\\nag2\\na.\"\n"
       ]
      }
     ],
     "prompt_number": 20
    },
    {
     "cell_type": "markdown",
     "metadata": {},
     "source": [
      "\n",
      "### Saving to file ###\n",
      "These pickle strings, you can now save to a file, send over a TCP/IP socket, store to a database -- the future is vast.  However, if you are saving to a file (the most common thing, probably) you can just use the `load` and `save` methods.  Also, to save space, pickle takes a `protocol` argument that will save the pickle as a binary file. "
     ]
    },
    {
     "cell_type": "code",
     "collapsed": false,
     "input": [
      "with open('x_seq.pickle', 'wb') as fileobj:\n",
      "    pickle.dump(x_seq, fileobj, pickle.HIGHEST_PROTOCOL)"
     ],
     "language": "python",
     "metadata": {},
     "outputs": [],
     "prompt_number": 28
    },
    {
     "cell_type": "code",
     "collapsed": false,
     "input": [
      "print open('x_seq.pickle').read()"
     ],
     "language": "python",
     "metadata": {},
     "outputs": [
      {
       "output_type": "stream",
       "stream": "stdout",
       "text": [
        "\ufffd\u0002]q\u0001(}q\u0002(U\u0001x]q\u0003(K\u0001K\u0002K\u0003eU\u0005x_mapq\u0004h\u0002uh\u0002h\u0002h\u0002h\u0002h\u0002h\u0002h\u0002h\u0002h\u0002e.\n"
       ]
      }
     ],
     "prompt_number": 32
    },
    {
     "cell_type": "code",
     "collapsed": false,
     "input": [
      "with open('x_seq.pickle', 'rb') as fileobj:\n",
      "    print pickle.load(fileobj)"
     ],
     "language": "python",
     "metadata": {},
     "outputs": [
      {
       "output_type": "stream",
       "stream": "stdout",
       "text": [
        "[{'x': [1, 2, 3], 'x_map': {...}}, {'x': [1, 2, 3], 'x_map': {...}}, {'x': [1, 2, 3], 'x_map': {...}}, {'x': [1, 2, 3], 'x_map': {...}}, {'x': [1, 2, 3], 'x_map': {...}}, {'x': [1, 2, 3], 'x_map': {...}}, {'x': [1, 2, 3], 'x_map': {...}}, {'x': [1, 2, 3], 'x_map': {...}}, {'x': [1, 2, 3], 'x_map': {...}}, {'x': [1, 2, 3], 'x_map': {...}}]\n"
       ]
      }
     ],
     "prompt_number": 33
    },
    {
     "cell_type": "markdown",
     "metadata": {},
     "source": [
      "\n",
      "## Pickling custom objects ##"
     ]
    },
    {
     "cell_type": "code",
     "collapsed": false,
     "input": [
      "codepath = './code'\n",
      "import sys\n",
      "sys.path.append(codepath)\n",
      "import foobar\n",
      "import inspect\n",
      "print inspect.getsource(foobar)"
     ],
     "language": "python",
     "metadata": {},
     "outputs": [
      {
       "output_type": "stream",
       "stream": "stdout",
       "text": [
        "\n",
        "\n",
        "class Foobar(object):\n",
        "    \"\"\"\\\n",
        "    _the_ foobar object\n",
        "    \"\"\"\n",
        "\n",
        "    def __init__(self, name):\n",
        "        self.name = name\n",
        "\n",
        "\n"
       ]
      }
     ],
     "prompt_number": 39
    },
    {
     "cell_type": "code",
     "collapsed": false,
     "input": [
      "baz = foobar.Foobar('baz')"
     ],
     "language": "python",
     "metadata": {},
     "outputs": [],
     "prompt_number": 22
    },
    {
     "cell_type": "code",
     "collapsed": false,
     "input": [
      "baz_pickle_string = pickle.dumps(baz)"
     ],
     "language": "python",
     "metadata": {},
     "outputs": [],
     "prompt_number": 23
    },
    {
     "cell_type": "code",
     "collapsed": false,
     "input": [
      "print repr(baz_pickle_string)"
     ],
     "language": "python",
     "metadata": {},
     "outputs": [
      {
       "output_type": "stream",
       "stream": "stdout",
       "text": [
        "\"ccopy_reg\\n_reconstructor\\np1\\n(cfoobar\\nFoobar\\np2\\nc__builtin__\\nobject\\np3\\nNtRp4\\n(dp5\\nS'name'\\np6\\nS'baz'\\np7\\nsb.\"\n"
       ]
      }
     ],
     "prompt_number": 24
    },
    {
     "cell_type": "markdown",
     "metadata": {},
     "source": [
      "Just beware -- that module has to be importable again or you get a pickle error. "
     ]
    },
    {
     "cell_type": "code",
     "collapsed": false,
     "input": [
      "del sys.modules['foobar']\n",
      "sys.path.remove(codepath)"
     ],
     "language": "python",
     "metadata": {},
     "outputs": [],
     "prompt_number": 25
    },
    {
     "cell_type": "code",
     "collapsed": false,
     "input": [
      "pickle.loads(baz_pickle_string)"
     ],
     "language": "python",
     "metadata": {},
     "outputs": [
      {
       "ename": "ImportError",
       "evalue": "No module named foobar",
       "output_type": "pyerr",
       "traceback": [
        "\u001b[1;31m---------------------------------------------------------------------------\u001b[0m\n\u001b[1;31mImportError\u001b[0m                               Traceback (most recent call last)",
        "\u001b[1;32m<ipython-input-26-36348f05bec2>\u001b[0m in \u001b[0;36m<module>\u001b[1;34m()\u001b[0m\n\u001b[1;32m----> 1\u001b[1;33m \u001b[0mpickle\u001b[0m\u001b[1;33m.\u001b[0m\u001b[0mloads\u001b[0m\u001b[1;33m(\u001b[0m\u001b[0mbaz_pickle_string\u001b[0m\u001b[1;33m)\u001b[0m\u001b[1;33m\u001b[0m\u001b[0m\n\u001b[0m",
        "\u001b[1;31mImportError\u001b[0m: No module named foobar"
       ]
      }
     ],
     "prompt_number": 26
    },
    {
     "cell_type": "markdown",
     "metadata": {},
     "source": [
      "\n",
      "## Some things *not* to pickle ##"
     ]
    },
    {
     "cell_type": "code",
     "collapsed": false,
     "input": [
      "# modules\n",
      "import foobar\n",
      "pickle.dumps(foobar)"
     ],
     "language": "python",
     "metadata": {},
     "outputs": [
      {
       "ename": "TypeError",
       "evalue": "can't pickle module objects",
       "output_type": "pyerr",
       "traceback": [
        "\u001b[1;31m---------------------------------------------------------------------------\u001b[0m\n\u001b[1;31mTypeError\u001b[0m                                 Traceback (most recent call last)",
        "\u001b[1;32m<ipython-input-41-5291e2a649f8>\u001b[0m in \u001b[0;36m<module>\u001b[1;34m()\u001b[0m\n\u001b[0;32m      1\u001b[0m \u001b[1;32mimport\u001b[0m \u001b[0mfoobar\u001b[0m\u001b[1;33m\u001b[0m\u001b[0m\n\u001b[1;32m----> 2\u001b[1;33m \u001b[0mpickle\u001b[0m\u001b[1;33m.\u001b[0m\u001b[0mdumps\u001b[0m\u001b[1;33m(\u001b[0m\u001b[0mfoobar\u001b[0m\u001b[1;33m)\u001b[0m\u001b[1;33m\u001b[0m\u001b[0m\n\u001b[0m",
        "\u001b[1;32m/home/ajcarter/virtualenvs/python2.7.main/lib/python2.7/copy_reg.pyc\u001b[0m in \u001b[0;36m_reduce_ex\u001b[1;34m(self, proto)\u001b[0m\n\u001b[0;32m     68\u001b[0m     \u001b[1;32melse\u001b[0m\u001b[1;33m:\u001b[0m\u001b[1;33m\u001b[0m\u001b[0m\n\u001b[0;32m     69\u001b[0m         \u001b[1;32mif\u001b[0m \u001b[0mbase\u001b[0m \u001b[1;32mis\u001b[0m \u001b[0mself\u001b[0m\u001b[1;33m.\u001b[0m\u001b[0m__class__\u001b[0m\u001b[1;33m:\u001b[0m\u001b[1;33m\u001b[0m\u001b[0m\n\u001b[1;32m---> 70\u001b[1;33m             \u001b[1;32mraise\u001b[0m \u001b[0mTypeError\u001b[0m\u001b[1;33m,\u001b[0m \u001b[1;34m\"can't pickle %s objects\"\u001b[0m \u001b[1;33m%\u001b[0m \u001b[0mbase\u001b[0m\u001b[1;33m.\u001b[0m\u001b[0m__name__\u001b[0m\u001b[1;33m\u001b[0m\u001b[0m\n\u001b[0m\u001b[0;32m     71\u001b[0m         \u001b[0mstate\u001b[0m \u001b[1;33m=\u001b[0m \u001b[0mbase\u001b[0m\u001b[1;33m(\u001b[0m\u001b[0mself\u001b[0m\u001b[1;33m)\u001b[0m\u001b[1;33m\u001b[0m\u001b[0m\n\u001b[0;32m     72\u001b[0m     \u001b[0margs\u001b[0m \u001b[1;33m=\u001b[0m \u001b[1;33m(\u001b[0m\u001b[0mself\u001b[0m\u001b[1;33m.\u001b[0m\u001b[0m__class__\u001b[0m\u001b[1;33m,\u001b[0m \u001b[0mbase\u001b[0m\u001b[1;33m,\u001b[0m \u001b[0mstate\u001b[0m\u001b[1;33m)\u001b[0m\u001b[1;33m\u001b[0m\u001b[0m\n",
        "\u001b[1;31mTypeError\u001b[0m: can't pickle module objects"
       ]
      }
     ],
     "prompt_number": 41
    },
    {
     "cell_type": "code",
     "collapsed": false,
     "input": [
      "# bound methods\n",
      "pickle.dumps(foobar.__init__)"
     ],
     "language": "python",
     "metadata": {},
     "outputs": [
      {
       "ename": "TypeError",
       "evalue": "can't pickle method-wrapper objects",
       "output_type": "pyerr",
       "traceback": [
        "\u001b[1;31m---------------------------------------------------------------------------\u001b[0m\n\u001b[1;31mTypeError\u001b[0m                                 Traceback (most recent call last)",
        "\u001b[1;32m<ipython-input-43-8f7a0d3c6840>\u001b[0m in \u001b[0;36m<module>\u001b[1;34m()\u001b[0m\n\u001b[0;32m      1\u001b[0m \u001b[1;31m# bound methods\u001b[0m\u001b[1;33m\u001b[0m\u001b[1;33m\u001b[0m\u001b[0m\n\u001b[1;32m----> 2\u001b[1;33m \u001b[0mpickle\u001b[0m\u001b[1;33m.\u001b[0m\u001b[0mdumps\u001b[0m\u001b[1;33m(\u001b[0m\u001b[0mfoobar\u001b[0m\u001b[1;33m.\u001b[0m\u001b[0m__init__\u001b[0m\u001b[1;33m)\u001b[0m\u001b[1;33m\u001b[0m\u001b[0m\n\u001b[0m",
        "\u001b[1;32m/home/ajcarter/virtualenvs/python2.7.main/lib/python2.7/copy_reg.pyc\u001b[0m in \u001b[0;36m_reduce_ex\u001b[1;34m(self, proto)\u001b[0m\n\u001b[0;32m     68\u001b[0m     \u001b[1;32melse\u001b[0m\u001b[1;33m:\u001b[0m\u001b[1;33m\u001b[0m\u001b[0m\n\u001b[0;32m     69\u001b[0m         \u001b[1;32mif\u001b[0m \u001b[0mbase\u001b[0m \u001b[1;32mis\u001b[0m \u001b[0mself\u001b[0m\u001b[1;33m.\u001b[0m\u001b[0m__class__\u001b[0m\u001b[1;33m:\u001b[0m\u001b[1;33m\u001b[0m\u001b[0m\n\u001b[1;32m---> 70\u001b[1;33m             \u001b[1;32mraise\u001b[0m \u001b[0mTypeError\u001b[0m\u001b[1;33m,\u001b[0m \u001b[1;34m\"can't pickle %s objects\"\u001b[0m \u001b[1;33m%\u001b[0m \u001b[0mbase\u001b[0m\u001b[1;33m.\u001b[0m\u001b[0m__name__\u001b[0m\u001b[1;33m\u001b[0m\u001b[0m\n\u001b[0m\u001b[0;32m     71\u001b[0m         \u001b[0mstate\u001b[0m \u001b[1;33m=\u001b[0m \u001b[0mbase\u001b[0m\u001b[1;33m(\u001b[0m\u001b[0mself\u001b[0m\u001b[1;33m)\u001b[0m\u001b[1;33m\u001b[0m\u001b[0m\n\u001b[0;32m     72\u001b[0m     \u001b[0margs\u001b[0m \u001b[1;33m=\u001b[0m \u001b[1;33m(\u001b[0m\u001b[0mself\u001b[0m\u001b[1;33m.\u001b[0m\u001b[0m__class__\u001b[0m\u001b[1;33m,\u001b[0m \u001b[0mbase\u001b[0m\u001b[1;33m,\u001b[0m \u001b[0mstate\u001b[0m\u001b[1;33m)\u001b[0m\u001b[1;33m\u001b[0m\u001b[0m\n",
        "\u001b[1;31mTypeError\u001b[0m: can't pickle method-wrapper objects"
       ]
      }
     ],
     "prompt_number": 43
    },
    {
     "cell_type": "code",
     "collapsed": false,
     "input": [
      "# generators\n",
      "x = (2 * y for y in xrange(10))\n",
      "pickle.dumps(x)"
     ],
     "language": "python",
     "metadata": {},
     "outputs": [
      {
       "ename": "TypeError",
       "evalue": "can't pickle generator objects",
       "output_type": "pyerr",
       "traceback": [
        "\u001b[1;31m---------------------------------------------------------------------------\u001b[0m\n\u001b[1;31mTypeError\u001b[0m                                 Traceback (most recent call last)",
        "\u001b[1;32m<ipython-input-45-62588021c9dc>\u001b[0m in \u001b[0;36m<module>\u001b[1;34m()\u001b[0m\n\u001b[0;32m      1\u001b[0m \u001b[0mx\u001b[0m \u001b[1;33m=\u001b[0m \u001b[1;33m(\u001b[0m\u001b[1;36m2\u001b[0m \u001b[1;33m*\u001b[0m \u001b[0my\u001b[0m \u001b[1;32mfor\u001b[0m \u001b[0my\u001b[0m \u001b[1;32min\u001b[0m \u001b[0mxrange\u001b[0m\u001b[1;33m(\u001b[0m\u001b[1;36m10\u001b[0m\u001b[1;33m)\u001b[0m\u001b[1;33m)\u001b[0m\u001b[1;33m\u001b[0m\u001b[0m\n\u001b[1;32m----> 2\u001b[1;33m \u001b[0mpickle\u001b[0m\u001b[1;33m.\u001b[0m\u001b[0mdumps\u001b[0m\u001b[1;33m(\u001b[0m\u001b[0mx\u001b[0m\u001b[1;33m)\u001b[0m\u001b[1;33m\u001b[0m\u001b[0m\n\u001b[0m",
        "\u001b[1;32m/home/ajcarter/virtualenvs/python2.7.main/lib/python2.7/copy_reg.pyc\u001b[0m in \u001b[0;36m_reduce_ex\u001b[1;34m(self, proto)\u001b[0m\n\u001b[0;32m     68\u001b[0m     \u001b[1;32melse\u001b[0m\u001b[1;33m:\u001b[0m\u001b[1;33m\u001b[0m\u001b[0m\n\u001b[0;32m     69\u001b[0m         \u001b[1;32mif\u001b[0m \u001b[0mbase\u001b[0m \u001b[1;32mis\u001b[0m \u001b[0mself\u001b[0m\u001b[1;33m.\u001b[0m\u001b[0m__class__\u001b[0m\u001b[1;33m:\u001b[0m\u001b[1;33m\u001b[0m\u001b[0m\n\u001b[1;32m---> 70\u001b[1;33m             \u001b[1;32mraise\u001b[0m \u001b[0mTypeError\u001b[0m\u001b[1;33m,\u001b[0m \u001b[1;34m\"can't pickle %s objects\"\u001b[0m \u001b[1;33m%\u001b[0m \u001b[0mbase\u001b[0m\u001b[1;33m.\u001b[0m\u001b[0m__name__\u001b[0m\u001b[1;33m\u001b[0m\u001b[0m\n\u001b[0m\u001b[0;32m     71\u001b[0m         \u001b[0mstate\u001b[0m \u001b[1;33m=\u001b[0m \u001b[0mbase\u001b[0m\u001b[1;33m(\u001b[0m\u001b[0mself\u001b[0m\u001b[1;33m)\u001b[0m\u001b[1;33m\u001b[0m\u001b[0m\n\u001b[0;32m     72\u001b[0m     \u001b[0margs\u001b[0m \u001b[1;33m=\u001b[0m \u001b[1;33m(\u001b[0m\u001b[0mself\u001b[0m\u001b[1;33m.\u001b[0m\u001b[0m__class__\u001b[0m\u001b[1;33m,\u001b[0m \u001b[0mbase\u001b[0m\u001b[1;33m,\u001b[0m \u001b[0mstate\u001b[0m\u001b[1;33m)\u001b[0m\u001b[1;33m\u001b[0m\u001b[0m\n",
        "\u001b[1;31mTypeError\u001b[0m: can't pickle generator objects"
       ]
      }
     ],
     "prompt_number": 45
    },
    {
     "cell_type": "code",
     "collapsed": false,
     "input": [
      "# But functions works! (As long as the function is importable). \n",
      "from math import sqrt\n",
      "pickle.dumps(sqrt)"
     ],
     "language": "python",
     "metadata": {},
     "outputs": [
      {
       "output_type": "pyout",
       "prompt_number": 46,
       "text": [
        "'cmath\\nsqrt\\np1\\n.'"
       ]
      }
     ],
     "prompt_number": 46
    },
    {
     "cell_type": "code",
     "collapsed": false,
     "input": [
      "# And other things you'll run into from time to time ...\n",
      "import socket\n",
      "s = socket.socket()\n",
      "pickle.dumps(s)"
     ],
     "language": "python",
     "metadata": {},
     "outputs": [
      {
       "ename": "TypeError",
       "evalue": "a class that defines __slots__ without defining __getstate__ cannot be pickled",
       "output_type": "pyerr",
       "traceback": [
        "\u001b[1;31m---------------------------------------------------------------------------\u001b[0m\n\u001b[1;31mTypeError\u001b[0m                                 Traceback (most recent call last)",
        "\u001b[1;32m<ipython-input-50-ebfd5cef0802>\u001b[0m in \u001b[0;36m<module>\u001b[1;34m()\u001b[0m\n\u001b[0;32m      1\u001b[0m \u001b[1;32mimport\u001b[0m \u001b[0msocket\u001b[0m\u001b[1;33m\u001b[0m\u001b[0m\n\u001b[0;32m      2\u001b[0m \u001b[0ms\u001b[0m \u001b[1;33m=\u001b[0m \u001b[0msocket\u001b[0m\u001b[1;33m.\u001b[0m\u001b[0msocket\u001b[0m\u001b[1;33m(\u001b[0m\u001b[1;33m)\u001b[0m\u001b[1;33m\u001b[0m\u001b[0m\n\u001b[1;32m----> 3\u001b[1;33m \u001b[0mpickle\u001b[0m\u001b[1;33m.\u001b[0m\u001b[0mdumps\u001b[0m\u001b[1;33m(\u001b[0m\u001b[0ms\u001b[0m\u001b[1;33m)\u001b[0m\u001b[1;33m\u001b[0m\u001b[0m\n\u001b[0m",
        "\u001b[1;32m/home/ajcarter/virtualenvs/python2.7.main/lib/python2.7/copy_reg.pyc\u001b[0m in \u001b[0;36m_reduce_ex\u001b[1;34m(self, proto)\u001b[0m\n\u001b[0;32m     75\u001b[0m     \u001b[1;32mexcept\u001b[0m \u001b[0mAttributeError\u001b[0m\u001b[1;33m:\u001b[0m\u001b[1;33m\u001b[0m\u001b[0m\n\u001b[0;32m     76\u001b[0m         \u001b[1;32mif\u001b[0m \u001b[0mgetattr\u001b[0m\u001b[1;33m(\u001b[0m\u001b[0mself\u001b[0m\u001b[1;33m,\u001b[0m \u001b[1;34m\"__slots__\"\u001b[0m\u001b[1;33m,\u001b[0m \u001b[0mNone\u001b[0m\u001b[1;33m)\u001b[0m\u001b[1;33m:\u001b[0m\u001b[1;33m\u001b[0m\u001b[0m\n\u001b[1;32m---> 77\u001b[1;33m             raise TypeError(\"a class that defines __slots__ without \"\n\u001b[0m\u001b[0;32m     78\u001b[0m                             \"defining __getstate__ cannot be pickled\")\n\u001b[0;32m     79\u001b[0m         \u001b[1;32mtry\u001b[0m\u001b[1;33m:\u001b[0m\u001b[1;33m\u001b[0m\u001b[0m\n",
        "\u001b[1;31mTypeError\u001b[0m: a class that defines __slots__ without defining __getstate__ cannot be pickled"
       ]
      }
     ],
     "prompt_number": 50
    },
    {
     "cell_type": "markdown",
     "metadata": {},
     "source": [
      "## __getstate__, __setstate__ ##"
     ]
    },
    {
     "cell_type": "code",
     "collapsed": false,
     "input": [
      "import socket\n",
      "\n",
      "class Baz(object):\n",
      "    \n",
      "    def __init__(self, name):\n",
      "        self.name = name\n",
      "        self.socket = socket.socket()\n",
      "        \n",
      "    def __getstate__(self):\n",
      "        return {'name': self.name}\n",
      "    \n",
      "    def __setstate__(self, statemap):\n",
      "        self.__dict__.update(statemap)\n",
      "        self.socket = socket.socket()\n",
      "\n",
      "baz = Baz(\"fred\")\n",
      "baz_pickle_string = pickle.dumps(baz)\n",
      "baz_copy = pickle.loads(baz_pickle_string)\n",
      "print baz_copy.__dict__"
     ],
     "language": "python",
     "metadata": {},
     "outputs": [
      {
       "output_type": "stream",
       "stream": "stdout",
       "text": [
        "{'name': 'fred', 'socket': <socket._socketobject object at 0xa833cdc>}\n"
       ]
      }
     ],
     "prompt_number": 62
    },
    {
     "cell_type": "markdown",
     "metadata": {},
     "source": [
      "## Notes / Discussion ##"
     ]
    },
    {
     "cell_type": "markdown",
     "metadata": {},
     "source": [
      "* shelve -- a dictionary interface to pickle\n",
      "* pickle versus YAML, JSON\n",
      "* pickle versus SQL, NoSQL\n",
      "* pickle versus Reddis"
     ]
    }
   ],
   "metadata": {}
  }
 ]
}